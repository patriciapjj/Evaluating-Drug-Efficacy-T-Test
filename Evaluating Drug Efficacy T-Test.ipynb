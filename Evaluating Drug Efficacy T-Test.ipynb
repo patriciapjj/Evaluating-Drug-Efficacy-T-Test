{
 "cells": [
  {
   "cell_type": "markdown",
   "id": "b5edb695-309e-47f3-b586-7aaa4ea9df80",
   "metadata": {},
   "source": [
    "# A paired samples t-test (aka a dependent samples t-test)\n",
    "\n",
    "### Purpose\n",
    "The purpose of this analysis is to evaluate the effectiveness of a new drug in reducing blood pressure. \n",
    "By comparing the blood pressure measurements of the same group of patients before and after taking the drug, we can determine whether the observed changes are statistically significant and indicative of the drug’s efficacy.\n",
    "\n",
    "### Intuition\n",
    "A paired sample t-test is used to analyze the differences between two sets of measurements taken from the same individuals. \n",
    "In this case, the test compares:\n",
    "- Before Treatment (mmHg): Blood pressure measurements before taking the new drug.\n",
    "- After Treatment (mmHg): Blood pressure measurements after taking the new drug.\n",
    "- The key question is: Did the drug consistently reduce blood pressure across the patients, or could the observed changes be due to random chance?\n",
    "\n",
    "   "
   ]
  },
  {
   "cell_type": "code",
   "execution_count": 2,
   "id": "e6ea6af5-67af-47eb-9b29-8e11afd80b5d",
   "metadata": {},
   "outputs": [],
   "source": [
    "# Dataset\n",
    "patients = [1, 2, 3, 4, 5, 6, 7, 8, 9, 10]\n",
    "before = [140, 145, 155, 160, 150, 148, 153, 165, 149, 155]\n",
    "after = [132, 138, 149, 153, 145, 140, 146, 158, 141, 147]"
   ]
  },
  {
   "cell_type": "markdown",
   "id": "a6dac9a1-c9ce-484c-a9ec-26177702fb80",
   "metadata": {},
   "source": [
    "# Method 1"
   ]
  },
  {
   "cell_type": "code",
   "execution_count": 4,
   "id": "2a93bece-23e0-4703-942b-86e8ef07601c",
   "metadata": {},
   "outputs": [
    {
     "name": "stdout",
     "output_type": "stream",
     "text": [
      "T-statistic: 22.577954844135466, P-value: 3.1089373891812632e-09\n",
      "Reject the null hypothesis: There is a statistically significant difference.\n"
     ]
    }
   ],
   "source": [
    "from scipy import stats\n",
    "\n",
    "t_stat, p_val = stats.ttest_rel(before, after)\n",
    "print(f\"T-statistic: {t_stat}, P-value: {p_val}\")\n",
    "\n",
    "alpha = 0.05\n",
    "if p_val < alpha:\n",
    "    print(\"Reject the null hypothesis: There is a statistically significant difference.\")\n",
    "else:\n",
    "    print(\"Fail to reject the null hypothesis: There is no statistically significant difference.\")"
   ]
  },
  {
   "cell_type": "markdown",
   "id": "17aa541a-f06e-42b3-b556-6c24f7fc721d",
   "metadata": {},
   "source": [
    "# Method 2"
   ]
  },
  {
   "cell_type": "markdown",
   "id": "c223cb40-842f-4716-a438-3dc213085532",
   "metadata": {},
   "source": [
    "## Hypotheses\n",
    "\n",
    "- **Null Hypothesis $H_0$**: There is no difference in the mean blood pressure before and after treatment: $ \\mu_{\\text{before}} = \\mu_{\\text{after}} $\n",
    "- **Alternative Hypothesis $H_a$**: There is a significant difference in the mean blood pressure before and after treatment: $ \\mu_{\\text{before}} \\neq \\mu_{\\text{after}} $\n",
    "\n",
    "---\n",
    "\n",
    "## Calculations\n",
    "\n",
    "### 1. Sample Mean of Differences\n",
    "The sample mean $\\bar{d}$ is calculated as: $ \\bar{d} = \\frac{1}{n} \\sum_{i=1}^n d_i $\n",
    "\n",
    "Where:\n",
    "- $ n $: Number of samples\n",
    "- $ d_i $: Difference for the $ i $-th patient ($ d_i = \\text{before}_i - \\text{after}_i $)\n"
   ]
  },
  {
   "cell_type": "code",
   "execution_count": 7,
   "id": "7feda67f-d72b-4904-ac01-8a77e52e6511",
   "metadata": {},
   "outputs": [
    {
     "name": "stdout",
     "output_type": "stream",
     "text": [
      "Differences (d): [-8, -7, -6, -7, -5, -8, -7, -7, -8, -8]\n"
     ]
    }
   ],
   "source": [
    "# calculate the differences\n",
    "difference = list(map(lambda i: after[i] - before[i], range(len(patients))))\n",
    "print(\"Differences (d):\", difference)\n"
   ]
  },
  {
   "cell_type": "markdown",
   "id": "5c531d58-52f7-4bf8-9e28-0ce6abef6fbb",
   "metadata": {},
   "source": [
    "| Patient | Before (mmHg) | After (mmHg) | Difference (d) |\n",
    "|---------|---------------|--------------|----------------|\n",
    "| 1       | 140           | 132          | -8             |\n",
    "| 2       | 145           | 138          | -7             |\n",
    "| 3       | 155           | 149          | -6             |\n",
    "| 4       | 160           | 153          | -7             |\n",
    "| 5       | 150           | 145          | -5             |\n",
    "| 6       | 148           | 140          | -8             |\n",
    "| 7       | 153           | 146          | -7             |\n",
    "| 8       | 165           | 158          | -7             |\n",
    "| 9       | 149           | 141          | -8             |\n",
    "| 10      | 155           | 147          | -8             |\n"
   ]
  },
  {
   "cell_type": "markdown",
   "id": "eb2f53bb-ee1a-4ce1-825d-0687ea2a758b",
   "metadata": {},
   "source": [
    "### 2. Sample Standard Deviation of Differences\n",
    "The sample standard deviation $ s_d = \\sqrt{\\frac{1}{n-1} \\sum_{i=1}^n (d_i - \\bar{d})^2} $\n",
    "\n",
    "Where:\n",
    "- $ \\bar{d} $: Sample mean of differences\n",
    "- $ d_i $: Individual differences\n",
    "- $ n $: Number of samples"
   ]
  },
  {
   "cell_type": "code",
   "execution_count": 10,
   "id": "60fe6b4e-2e11-4ed1-94d0-ccc4dd7c9cfe",
   "metadata": {},
   "outputs": [
    {
     "data": {
      "text/plain": [
       "-7.1"
      ]
     },
     "execution_count": 10,
     "metadata": {},
     "output_type": "execute_result"
    }
   ],
   "source": [
    "d_bar = sum(difference) / len(patients) \n",
    "d_bar"
   ]
  },
  {
   "cell_type": "markdown",
   "id": "97d94ec5-d4ec-4bfe-b91d-87bdb892af5b",
   "metadata": {},
   "source": [
    "### 3. Test Statistic\n",
    "The test statistic t for a paired t-test is calculated as: $ t = \\frac{\\bar{d}}{s_d / \\sqrt{n}} $\n",
    "\n",
    "Where:\n",
    "- $ \\bar{d} $: Sample mean of differences\n",
    "- $ s_d $: Sample standard deviation of differences\n",
    "- $ n $: Number of samples\n"
   ]
  },
  {
   "cell_type": "code",
   "execution_count": 12,
   "id": "963c759f-7eb7-4605-8534-8ca6dfa9ef88",
   "metadata": {},
   "outputs": [
    {
     "name": "stdout",
     "output_type": "stream",
     "text": [
      "squared_diffs: [0.8100000000000006, 0.009999999999999929, 1.2099999999999993, 0.009999999999999929, 4.409999999999998, 0.8100000000000006, 0.009999999999999929, 0.009999999999999929, 0.8100000000000006, 0.8100000000000006]\n",
      "\n",
      " s_d: 0.9944289260117531\n"
     ]
    },
    {
     "data": {
      "text/plain": [
       "-22.57795484413547"
      ]
     },
     "execution_count": 12,
     "metadata": {},
     "output_type": "execute_result"
    }
   ],
   "source": [
    "import math\n",
    "n = len(patients)\n",
    "squared_diffs = [(d - d_bar) ** 2 for d in difference]\n",
    "print('squared_diffs: ' + str(squared_diffs))\n",
    "s_d = math.sqrt(sum(squared_diffs) / (n - 1))\n",
    "s_d\n",
    "# Bessel's correction \n",
    "# n-1 corrects for bias in the estimation of the population variance and ensures an unbiased estimate when working with a sample\n",
    "print('\\n s_d: ' + str(s_d))\n",
    "\n",
    "t = d_bar / (s_d / math.sqrt(len(patients)))\n",
    "t"
   ]
  },
  {
   "cell_type": "markdown",
   "id": "943dc7d8-f202-49de-96fc-866a9a6c4f2e",
   "metadata": {},
   "source": [
    "## Significance Test\n",
    "\n",
    "Compare the computed $ t $-statistic to the critical value from the $ t $-distribution table or use the $ p $-value approach:\n",
    "- If $ p < \\alpha $, reject $H_0$\n",
    "- If $ p \\geq \\alpha $, fail to reject $H_0$\n",
    "\n",
    "---\n",
    "\n",
    "\n",
    "## Conclusion\n",
    "- Based on the result of the paired sample t-test, p-value is much smaller than 0.05. Thus, we can reject null hypothesis. \n",
    "- The reduction in blood pressure is statistically significant.\n",
    "- Therefore, we conclude that the treatment had a measurable effect on reducing blood pressure.\n"
   ]
  },
  {
   "cell_type": "code",
   "execution_count": null,
   "id": "b5c357a9-dc22-4baa-ac29-92cd37010481",
   "metadata": {},
   "outputs": [],
   "source": []
  },
  {
   "cell_type": "code",
   "execution_count": null,
   "id": "59bcf9c8-0d4e-4c8d-987d-41a5afdf489f",
   "metadata": {},
   "outputs": [],
   "source": []
  },
  {
   "cell_type": "code",
   "execution_count": null,
   "id": "e309a150-ebc4-4d39-a592-33b0c28e064d",
   "metadata": {},
   "outputs": [],
   "source": []
  }
 ],
 "metadata": {
  "kernelspec": {
   "display_name": "Python 3 (ipykernel)",
   "language": "python",
   "name": "python3"
  },
  "language_info": {
   "codemirror_mode": {
    "name": "ipython",
    "version": 3
   },
   "file_extension": ".py",
   "mimetype": "text/x-python",
   "name": "python",
   "nbconvert_exporter": "python",
   "pygments_lexer": "ipython3",
   "version": "3.10.11"
  }
 },
 "nbformat": 4,
 "nbformat_minor": 5
}
